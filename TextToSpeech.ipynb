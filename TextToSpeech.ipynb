{
 "cells": [
  {
   "cell_type": "code",
   "execution_count": 2,
   "metadata": {},
   "outputs": [
    {
     "name": "stdout",
     "output_type": "stream",
     "text": [
      "welcome to the Text to speech project enter \n",
      "  1: Text file(.txt) \n",
      "  2: audio file (.mp3)\n",
      "For AUDIO file you have to first created the txt file and then it converts into .mp3 \n",
      "your text is :  hey buddy how are you python is good for everyone\n"
     ]
    }
   ],
   "source": [
    "import  pyttsx3\n",
    "print(\"welcome to the Text to speech project enter \\n  1: Text file(.txt) \\n  2: audio file (.mp3)\")\n",
    "choice=int(input(\"enter your choice  \"))\n",
    "if choice==1:\n",
    "    filename=input(\"enter your file name !\")\n",
    "    with open(filename+\".txt\",\"w\") as dw:\n",
    "        d_s=\"Hello  USER ! welcome to the text to speech project !\"\n",
    "        data=dw.write(d_s)\n",
    "        print(\"Your file have been created\")\n",
    "elif choice==2:\n",
    "    print(\"For AUDIO file you have to first created the txt file and then it converts into .mp3 \" )\n",
    "    filename1=input(\"enter your file name  : \" )\n",
    "    with open(filename1+\".txt\",\"w\") as file1:\n",
    "      text=input(\"Enter Your text \")#welcome to the texttosppech project i have to read this for your benefits only \"\n",
    "      audio_data=file1.write(text)\n",
    "      print(\"your text is : \",text)\n",
    "    with open(filename1+\".txt\",\"r\") as f_r:\n",
    "        read_data=f_r.readlines()\n",
    "        engine=pyttsx3.init()\n",
    "        #voice=engine.getProperty(\"voices\")\n",
    "        #engine.setProperty('voice',voice[1].id)\n",
    "        \"\"\"For convert the file into female voice your have to just un comment these lines \"\"\"\n",
    "        \"\"\"print(\"data is :\",read_data) -It prints the charactor have been used in .txt file\"\"\"\n",
    "        for u in read_data:\n",
    "            engine.say(u)\n",
    "            engine.save_to_file(text,filename1+\".mp3\")\n",
    "            engine.runAndWait()  \n",
    "else:\n",
    "    print(\"You HIT wrong Just enter again or try the given one\")\n",
    "   \n",
    "\n",
    "\n",
    "\n",
    "\n"
   ]
  }
 ],
 "metadata": {
  "kernelspec": {
   "display_name": "Python 3",
   "language": "python",
   "name": "python3"
  },
  "language_info": {
   "codemirror_mode": {
    "name": "ipython",
    "version": 3
   },
   "file_extension": ".py",
   "mimetype": "text/x-python",
   "name": "python",
   "nbconvert_exporter": "python",
   "pygments_lexer": "ipython3",
   "version": "3.10.0"
  },
  "orig_nbformat": 4,
  "vscode": {
   "interpreter": {
    "hash": "a9cff5a362bc38ef45d817ae74b1af54d6a076e3d773891282bce078b815ba34"
   }
  }
 },
 "nbformat": 4,
 "nbformat_minor": 2
}
